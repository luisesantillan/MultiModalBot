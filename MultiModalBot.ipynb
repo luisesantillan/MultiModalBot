{
  "nbformat": 4,
  "nbformat_minor": 0,
  "metadata": {
    "colab": {
      "private_outputs": true,
      "provenance": [],
      "authorship_tag": "ABX9TyP1mKc5gc6b+BnUu6hlCqg1",
      "include_colab_link": true
    },
    "kernelspec": {
      "name": "python3",
      "display_name": "Python 3"
    },
    "language_info": {
      "name": "python"
    }
  },
  "cells": [
    {
      "cell_type": "markdown",
      "metadata": {
        "id": "view-in-github",
        "colab_type": "text"
      },
      "source": [
        "<a href=\"https://colab.research.google.com/github/luisesantillan/MultiModalBot/blob/main/MultiModalBot.ipynb\" target=\"_parent\"><img src=\"https://colab.research.google.com/assets/colab-badge.svg\" alt=\"Open In Colab\"/></a>"
      ]
    },
    {
      "cell_type": "code",
      "execution_count": null,
      "metadata": {
        "cellView": "form",
        "id": "oFmpsHFigjiA"
      },
      "outputs": [],
      "source": [
        "#@title Install\n",
        "!git clone https://github.com/luisesantillan/MultiModalBot\n",
        "!cd MultiModalBot && pip install -r requirements.txt\n",
        "from ipywidgets import Button\n",
        "Button(description=\"\\u2714 Success\",button_style=\"success\")"
      ]
    },
    {
      "cell_type": "code",
      "source": [
        "#@title Add your tokens (Do NOT Share your token/key with anyone)\n",
        "#@markdown <small> Get your OPENAI_API_KEY here: https://platform.openai.com/api-keys\n",
        "OPENAI_API_KEY=\"\" #@param {type:\"string\"}\n",
        "#@markdown <small> Get your TELEGRAM_BOT_TOKEN after creating your Bot here: https://telegram.me/BotFather\n",
        "TELEGRAM_BOT_TOKEN=\"\" #@param {type:\"string\"}\n",
        "!echo TELEGRAM_BOT_TOKEN=$TELEGRAM_BOT_TOKEN > .env\n",
        "!echo OPENAI_API_KEY=$OPENAI_API_KEY >> .env\n",
        "\n",
        "from ipywidgets import Button\n",
        "Button(description=\"\\u2714 Success\",button_style=\"success\")"
      ],
      "metadata": {
        "cellView": "form",
        "id": "jGyna40Mg84q"
      },
      "execution_count": null,
      "outputs": []
    },
    {
      "cell_type": "code",
      "source": [
        "#@title Run\n",
        "!cd /content/MultiModalBot/ && python start_telegram_bot.py"
      ],
      "metadata": {
        "cellView": "form",
        "id": "IXydS4IHiI3Q"
      },
      "execution_count": null,
      "outputs": []
    }
  ]
}